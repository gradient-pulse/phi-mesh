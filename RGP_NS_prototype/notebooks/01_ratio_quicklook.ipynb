{
 "cells": [
  {
   "cell_type": "markdown",
   "metadata": {},
   "source": [
    "# Ratio quick-look\n",
    "Detect NTs → compute distance ratios → plot histogram."
   ]
  },
  {
   "cell_type": "code",
   "execution_count": null,
   "metadata": {},
   "outputs": [],
   "source": [
    "import numpy as np, matplotlib.pyplot as plt, pandas as pd\n",
    "from pathlib import Path\n",
    "from importlib import reload\n",
    "from agents import nt_detect, ratio_analyze"
   ]
  },
  {
   "cell_type": "code",
   "execution_count": null,
   "metadata": {},
   "outputs": [],
   "source": [
    "# synthetic demo signal  (same as 00_quicklook)\n",
    "t = np.linspace(0, 20, 400)\n",
    "g = np.sin(t) + 0.4*np.sin(3*t+0.8) + 0.25*np.random.randn(len(t))"
   ]
  },
  {
   "cell_type": "code",
   "execution_count": null,
   "metadata": {},
   "outputs": [],
   "source": [
    "nts = nt_detect.detect_nt(g, sigma=1.5)\n",
    "ratios = ratio_analyze.ratios(nts)\n",
    "pd.Series(ratios).head()"
   ]
  },
  {
   "cell_type": "code",
   "execution_count": null,
   "metadata": {},
   "outputs": [],
   "source": [
    "plt.hist(ratios, bins=20, edgecolor='k');\n",
    "plt.xlabel('distance(i+1) / distance(i)');"
   ]
  }
 ],
 "metadata": {
  "kernelspec": {
   "display_name": "Python 3",
   "language": "python",
   "name": "python3"
  },
  "language_info": { "name": "python", "version": "" }
 },
 "nbformat": 4,
 "nbformat_minor": 5
}
